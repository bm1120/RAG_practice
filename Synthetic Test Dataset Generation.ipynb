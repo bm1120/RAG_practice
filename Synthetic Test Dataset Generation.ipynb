{
 "cells": [
  {
   "cell_type": "code",
   "execution_count": 1,
   "metadata": {},
   "outputs": [
    {
     "data": {
      "text/plain": [
       "True"
      ]
     },
     "execution_count": 1,
     "metadata": {},
     "output_type": "execute_result"
    }
   ],
   "source": [
    "# API KEY를 환경변수로 관리하기 위한 설정 파일\n",
    "from dotenv import load_dotenv\n",
    "\n",
    "# API KEY 정보로드\n",
    "load_dotenv()"
   ]
  },
  {
   "cell_type": "code",
   "execution_count": 2,
   "metadata": {},
   "outputs": [
    {
     "name": "stdout",
     "output_type": "stream",
     "text": [
      "AIzaSyC06D**********\n"
     ]
    }
   ],
   "source": [
    "import os\n",
    "print(os.environ['GOOGLE_API_KEY'][:10]+'*'*10)"
   ]
  },
  {
   "cell_type": "code",
   "execution_count": 3,
   "metadata": {},
   "outputs": [
    {
     "name": "stdout",
     "output_type": "stream",
     "text": [
      "LangSmith 추적을 시작합니다.\n",
      "[프로젝트명]\n",
      "Synthetic Data Generation\n"
     ]
    }
   ],
   "source": [
    "from langchain_teddynote import logging\n",
    "\n",
    "logging.langsmith(\"Synthetic Data Generation\")"
   ]
  },
  {
   "cell_type": "code",
   "execution_count": 4,
   "metadata": {},
   "outputs": [
    {
     "data": {
      "text/plain": [
       "25"
      ]
     },
     "execution_count": 4,
     "metadata": {},
     "output_type": "execute_result"
    }
   ],
   "source": [
    "from langchain_community.document_loaders import PDFPlumberLoader\n",
    "\n",
    "# 문서 로더 생성\n",
    "loader = PDFPlumberLoader(\"data/Domain-specialized-LLM-Financial-fine-tuning-and-utilization-method-using-Mistral-7B.pdf\")\n",
    "\n",
    "# 문서 로딩\n",
    "docs = loader.load()\n",
    "\n",
    "# 목차, 끝 페이지 제외\n",
    "docs = docs[3:-1]\n",
    "\n",
    "# 문서의 페이지수\n",
    "len(docs)"
   ]
  },
  {
   "cell_type": "code",
   "execution_count": 5,
   "metadata": {},
   "outputs": [
    {
     "data": {
      "text/plain": [
       "{'source': 'data/Domain-specialized-LLM-Financial-fine-tuning-and-utilization-method-using-Mistral-7B.pdf',\n",
       " 'file_path': 'data/Domain-specialized-LLM-Financial-fine-tuning-and-utilization-method-using-Mistral-7B.pdf',\n",
       " 'page': 3,\n",
       " 'total_pages': 29,\n",
       " 'Author': 'MS',\n",
       " 'CreationDate': \"D:20240328014510+09'00'\",\n",
       " 'Creator': 'PScript5.dll Version 5.2.2',\n",
       " 'ModDate': \"D:20240328014510+09'00'\",\n",
       " 'Producer': 'Acrobat Distiller 9.3.2 (Windows)',\n",
       " 'Title': '<C1F6B4C9C1A4BAB8203330B1C731C8A35FC5EBBABB2E687770>',\n",
       " 'rgid': 'PB:379341632_AS:11431281232126100@1711621456089'}"
      ]
     },
     "execution_count": 5,
     "metadata": {},
     "output_type": "execute_result"
    }
   ],
   "source": [
    "docs[0].metadata"
   ]
  },
  {
   "cell_type": "code",
   "execution_count": 6,
   "metadata": {},
   "outputs": [],
   "source": [
    "# metadata 설정(filename 이 존재해야 함)\n",
    "for doc in docs:\n",
    "    doc.metadata[\"filename\"] = doc.metadata[\"source\"]"
   ]
  },
  {
   "cell_type": "code",
   "execution_count": 27,
   "metadata": {},
   "outputs": [],
   "source": [
    "from ragas.testset import TestsetGenerator\n",
    "from ragas.llms import LangchainLLMWrapper\n",
    "from ragas.embeddings import LangchainEmbeddingsWrapper\n",
    "\n",
    "from langchain_openai import ChatOpenAI, OpenAIEmbeddings\n",
    "from langchain_google_genai import ChatGoogleGenerativeAI\n",
    "from langchain_ollama import OllamaEmbeddings\n",
    "\n",
    "# 데이터셋 생성기\n",
    "# llm = ChatGoogleGenerativeAI(model=\"gemini-2.0-flash\")\n",
    "llm = ChatOpenAI(model=\"gpt-4o-mini\")\n",
    "\n",
    "# 문서 임베딩\n",
    "# embeddings = OllamaEmbeddings(model=\"bge-m3\")\n",
    "embeddings = OllamaEmbeddings(model=\"bge-m3\")\n"
   ]
  },
  {
   "cell_type": "code",
   "execution_count": 28,
   "metadata": {},
   "outputs": [],
   "source": [
    "# LangChain의 gemini 모델을 LangchainLLMWrapper로 감싸 Ragas와 호환되게 만듭니다.\n",
    "generator_llm = LangchainLLMWrapper(llm)\n",
    "\n",
    "# ragas_embeddings 생성\n",
    "ragas_embeddings = LangchainEmbeddingsWrapper(embeddings)\n"
   ]
  },
  {
   "cell_type": "code",
   "execution_count": null,
   "metadata": {},
   "outputs": [],
   "source": [
    "generator = TestsetGenerator(llm = generator_llm, embedding_model=ragas_embeddings)\n",
    "dataset = generator.generate_with_langchain_docs(docs, testset_size=10, with_debugging_logs=True,)"
   ]
  },
  {
   "cell_type": "code",
   "execution_count": null,
   "metadata": {},
   "outputs": [],
   "source": [
    "# 생성된 테스트셋을 pandas DataFrame으로 변환\n",
    "test_df = dataset.to_pandas()\n",
    "test_df"
   ]
  },
  {
   "cell_type": "markdown",
   "metadata": {},
   "source": [
    "## deeper"
   ]
  },
  {
   "cell_type": "code",
   "execution_count": 29,
   "metadata": {},
   "outputs": [],
   "source": [
    "from ragas.testset.graph import KnowledgeGraph\n",
    "\n",
    "kg = KnowledgeGraph()"
   ]
  },
  {
   "cell_type": "code",
   "execution_count": 30,
   "metadata": {},
   "outputs": [],
   "source": [
    "from ragas.testset.graph import Node, NodeType\n",
    "\n",
    "for doc in docs:\n",
    "    kg.nodes.append(\n",
    "        Node(\n",
    "            type=NodeType.DOCUMENT,\n",
    "            properties={\"page_content\": doc.page_content, \"document_metadata\": doc.metadata}\n",
    "        )\n",
    "    )"
   ]
  },
  {
   "cell_type": "code",
   "execution_count": 31,
   "metadata": {},
   "outputs": [
    {
     "data": {
      "text/plain": [
       "KnowledgeGraph(nodes: 25, relationships: 0)"
      ]
     },
     "execution_count": 31,
     "metadata": {},
     "output_type": "execute_result"
    }
   ],
   "source": [
    "kg"
   ]
  },
  {
   "cell_type": "code",
   "execution_count": 32,
   "metadata": {},
   "outputs": [
    {
     "data": {
      "application/vnd.jupyter.widget-view+json": {
       "model_id": "203d7d90f11c4f6a8943e000c7599b95",
       "version_major": 2,
       "version_minor": 0
      },
      "text/plain": [
       "Applying HeadlinesExtractor:   0%|          | 0/25 [00:00<?, ?it/s]"
      ]
     },
     "metadata": {},
     "output_type": "display_data"
    },
    {
     "data": {
      "application/vnd.jupyter.widget-view+json": {
       "model_id": "1ee7143e039441cebc07fe256f44f349",
       "version_major": 2,
       "version_minor": 0
      },
      "text/plain": [
       "Applying HeadlineSplitter:   0%|          | 0/25 [00:00<?, ?it/s]"
      ]
     },
     "metadata": {},
     "output_type": "display_data"
    },
    {
     "data": {
      "application/vnd.jupyter.widget-view+json": {
       "model_id": "e3d469343ca1493da3accb107cc4b740",
       "version_major": 2,
       "version_minor": 0
      },
      "text/plain": [
       "Applying SummaryExtractor:   0%|          | 0/50 [00:00<?, ?it/s]"
      ]
     },
     "metadata": {},
     "output_type": "display_data"
    },
    {
     "name": "stderr",
     "output_type": "stream",
     "text": [
      "Property 'summary' already exists in node '9a722a'. Skipping!\n",
      "Property 'summary' already exists in node '8db949'. Skipping!\n",
      "Property 'summary' already exists in node 'e95bb2'. Skipping!\n",
      "Property 'summary' already exists in node 'c5f2cc'. Skipping!\n",
      "Property 'summary' already exists in node '2c8b3c'. Skipping!\n",
      "Property 'summary' already exists in node 'f38220'. Skipping!\n",
      "Property 'summary' already exists in node '0f10fa'. Skipping!\n",
      "Property 'summary' already exists in node '64a1f3'. Skipping!\n",
      "Property 'summary' already exists in node '7937c4'. Skipping!\n",
      "Property 'summary' already exists in node '9be4ed'. Skipping!\n",
      "Property 'summary' already exists in node '5f5841'. Skipping!\n",
      "Property 'summary' already exists in node '68b3a2'. Skipping!\n",
      "Property 'summary' already exists in node 'c49902'. Skipping!\n",
      "Property 'summary' already exists in node '2d5152'. Skipping!\n",
      "Property 'summary' already exists in node '7ca2b8'. Skipping!\n",
      "Property 'summary' already exists in node 'b46b0b'. Skipping!\n",
      "Property 'summary' already exists in node 'a72160'. Skipping!\n",
      "Property 'summary' already exists in node '169fc4'. Skipping!\n",
      "Property 'summary' already exists in node 'c870e6'. Skipping!\n",
      "Property 'summary' already exists in node 'e2f007'. Skipping!\n",
      "Property 'summary' already exists in node 'ae72d4'. Skipping!\n",
      "Property 'summary' already exists in node 'd9180e'. Skipping!\n",
      "Property 'summary' already exists in node 'fe4fe6'. Skipping!\n",
      "Property 'summary' already exists in node '2abbd2'. Skipping!\n",
      "Property 'summary' already exists in node '703be1'. Skipping!\n"
     ]
    },
    {
     "data": {
      "application/vnd.jupyter.widget-view+json": {
       "model_id": "7b4f31808a194eb8a4fecb524e8112af",
       "version_major": 2,
       "version_minor": 0
      },
      "text/plain": [
       "Applying CustomNodeFilter: 0it [00:00, ?it/s]"
      ]
     },
     "metadata": {},
     "output_type": "display_data"
    },
    {
     "data": {
      "application/vnd.jupyter.widget-view+json": {
       "model_id": "d3061425a2e7496f875d488350b4aa72",
       "version_major": 2,
       "version_minor": 0
      },
      "text/plain": [
       "Applying [EmbeddingExtractor, ThemesExtractor, NERExtractor]:   0%|          | 0/50 [00:00<?, ?it/s]"
      ]
     },
     "metadata": {},
     "output_type": "display_data"
    },
    {
     "name": "stderr",
     "output_type": "stream",
     "text": [
      "Property 'summary_embedding' already exists in node 'c5f2cc'. Skipping!\n",
      "Property 'summary_embedding' already exists in node '9a722a'. Skipping!\n",
      "Property 'summary_embedding' already exists in node '8db949'. Skipping!\n",
      "Property 'summary_embedding' already exists in node 'e95bb2'. Skipping!\n",
      "Property 'summary_embedding' already exists in node '2c8b3c'. Skipping!\n",
      "Property 'summary_embedding' already exists in node '703be1'. Skipping!\n",
      "Property 'summary_embedding' already exists in node 'f38220'. Skipping!\n",
      "Property 'summary_embedding' already exists in node 'd9180e'. Skipping!\n",
      "Property 'summary_embedding' already exists in node '7937c4'. Skipping!\n",
      "Property 'summary_embedding' already exists in node '9be4ed'. Skipping!\n",
      "Property 'summary_embedding' already exists in node '0f10fa'. Skipping!\n",
      "Property 'summary_embedding' already exists in node '5f5841'. Skipping!\n",
      "Property 'summary_embedding' already exists in node '64a1f3'. Skipping!\n",
      "Property 'summary_embedding' already exists in node 'c49902'. Skipping!\n",
      "Property 'summary_embedding' already exists in node '7ca2b8'. Skipping!\n",
      "Property 'summary_embedding' already exists in node '2d5152'. Skipping!\n",
      "Property 'summary_embedding' already exists in node 'fe4fe6'. Skipping!\n",
      "Property 'summary_embedding' already exists in node '68b3a2'. Skipping!\n",
      "Property 'summary_embedding' already exists in node '169fc4'. Skipping!\n",
      "Property 'summary_embedding' already exists in node '2abbd2'. Skipping!\n",
      "Property 'summary_embedding' already exists in node 'e2f007'. Skipping!\n",
      "Property 'summary_embedding' already exists in node 'ae72d4'. Skipping!\n",
      "Property 'summary_embedding' already exists in node 'a72160'. Skipping!\n",
      "Property 'summary_embedding' already exists in node 'b46b0b'. Skipping!\n",
      "Property 'summary_embedding' already exists in node 'c870e6'. Skipping!\n"
     ]
    },
    {
     "data": {
      "application/vnd.jupyter.widget-view+json": {
       "model_id": "b65e284da063420196a17cdd244d7d92",
       "version_major": 2,
       "version_minor": 0
      },
      "text/plain": [
       "Applying [CosineSimilarityBuilder, OverlapScoreBuilder]:   0%|          | 0/2 [00:00<?, ?it/s]"
      ]
     },
     "metadata": {},
     "output_type": "display_data"
    }
   ],
   "source": [
    "from ragas.testset.transforms import default_transforms, apply_transforms\n",
    "\n",
    "\n",
    "# define your LLM and Embedding Model\n",
    "# here we are using the same LLM and Embedding Model that we used to generate the testset\n",
    "transformer_llm = generator_llm\n",
    "embedding_model = LangchainEmbeddingsWrapper(OllamaEmbeddings(model=\"bge-m3\"))\n",
    "\n",
    "trans = default_transforms(documents=docs, llm=transformer_llm, embedding_model=embedding_model)\n",
    "apply_transforms(kg, trans)"
   ]
  },
  {
   "cell_type": "code",
   "execution_count": 33,
   "metadata": {},
   "outputs": [
    {
     "data": {
      "text/plain": [
       "KnowledgeGraph(nodes: 50, relationships: 493)"
      ]
     },
     "execution_count": 33,
     "metadata": {},
     "output_type": "execute_result"
    }
   ],
   "source": [
    "kg"
   ]
  },
  {
   "cell_type": "code",
   "execution_count": 34,
   "metadata": {},
   "outputs": [],
   "source": [
    "kg.save(\"knowledge_graph.json\")"
   ]
  },
  {
   "cell_type": "code",
   "execution_count": 35,
   "metadata": {},
   "outputs": [
    {
     "data": {
      "text/plain": [
       "KnowledgeGraph(nodes: 50, relationships: 493)"
      ]
     },
     "execution_count": 35,
     "metadata": {},
     "output_type": "execute_result"
    }
   ],
   "source": [
    "loaded_kg = KnowledgeGraph.load(\"knowledge_graph.json\")\n",
    "loaded_kg"
   ]
  },
  {
   "cell_type": "code",
   "execution_count": 36,
   "metadata": {},
   "outputs": [],
   "source": [
    "from ragas.testset.synthesizers import default_query_distribution\n",
    "\n",
    "query_distribution = default_query_distribution(generator_llm)"
   ]
  },
  {
   "cell_type": "code",
   "execution_count": 44,
   "metadata": {},
   "outputs": [],
   "source": [
    "from ragas.testset import TestsetGenerator\n",
    "embedding_model = LangchainEmbeddingsWrapper(OpenAIEmbeddings(model=\"text-embedding-3-small\"))\n",
    "\n",
    "generator = TestsetGenerator(llm=generator_llm, embedding_model=embedding_model, knowledge_graph=loaded_kg)"
   ]
  },
  {
   "cell_type": "code",
   "execution_count": 46,
   "metadata": {},
   "outputs": [
    {
     "data": {
      "application/vnd.jupyter.widget-view+json": {
       "model_id": "34232d7227214f29a0a35c205c4e622d",
       "version_major": 2,
       "version_minor": 0
      },
      "text/plain": [
       "Generating personas:   0%|          | 0/3 [00:00<?, ?it/s]"
      ]
     },
     "metadata": {},
     "output_type": "display_data"
    },
    {
     "data": {
      "application/vnd.jupyter.widget-view+json": {
       "model_id": "805c7475388e4d6486a28a38b6a41f84",
       "version_major": 2,
       "version_minor": 0
      },
      "text/plain": [
       "Generating Scenarios:   0%|          | 0/2 [00:00<?, ?it/s]"
      ]
     },
     "metadata": {},
     "output_type": "display_data"
    },
    {
     "data": {
      "application/vnd.jupyter.widget-view+json": {
       "model_id": "436ea39a43ac4b63b0d0845428a3e6cd",
       "version_major": 2,
       "version_minor": 0
      },
      "text/plain": [
       "Generating Samples: 0it [00:00, ?it/s]"
      ]
     },
     "metadata": {},
     "output_type": "display_data"
    }
   ],
   "source": [
    "\n",
    "testset = generator.generate(testset_size=10)"
   ]
  },
  {
   "cell_type": "code",
   "execution_count": 47,
   "metadata": {},
   "outputs": [],
   "source": [
    "test_df = testset.to_pandas()"
   ]
  }
 ],
 "metadata": {
  "kernelspec": {
   "display_name": "langchain-kr-6XMr01W1-py3.11",
   "language": "python",
   "name": "python3"
  },
  "language_info": {
   "codemirror_mode": {
    "name": "ipython",
    "version": 3
   },
   "file_extension": ".py",
   "mimetype": "text/x-python",
   "name": "python",
   "nbconvert_exporter": "python",
   "pygments_lexer": "ipython3",
   "version": "3.11.9"
  }
 },
 "nbformat": 4,
 "nbformat_minor": 2
}
