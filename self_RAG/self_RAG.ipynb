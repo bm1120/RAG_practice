{
 "cells": [
  {
   "cell_type": "code",
   "execution_count": 1,
   "metadata": {},
   "outputs": [
    {
     "data": {
      "text/plain": [
       "True"
      ]
     },
     "execution_count": 1,
     "metadata": {},
     "output_type": "execute_result"
    }
   ],
   "source": [
    "from dotenv import load_dotenv\n",
    "\n",
    "load_dotenv()"
   ]
  },
  {
   "cell_type": "code",
   "execution_count": 2,
   "metadata": {},
   "outputs": [
    {
     "name": "stdout",
     "output_type": "stream",
     "text": [
      "AIzaSyC06D**********\n"
     ]
    }
   ],
   "source": [
    "import os\n",
    "print(os.environ['GOOGLE_API_KEY'][:10]+'*'*10)"
   ]
  },
  {
   "cell_type": "code",
   "execution_count": 3,
   "metadata": {},
   "outputs": [
    {
     "name": "stdout",
     "output_type": "stream",
     "text": [
      "LangSmith 추적을 시작합니다.\n",
      "[프로젝트명]\n",
      "selt RAG TEST\n"
     ]
    }
   ],
   "source": [
    "from langchain_teddynote import logging\n",
    "\n",
    "logging.langsmith(\"selt RAG TEST\")"
   ]
  },
  {
   "cell_type": "code",
   "execution_count": 4,
   "metadata": {},
   "outputs": [],
   "source": [
    "from langchain_google_genai import ChatGoogleGenerativeAI, GoogleGenerativeAIEmbeddings\n",
    "llm = ChatGoogleGenerativeAI(model=\"gemini-2.0-flash\")\n",
    "embeddings = GoogleGenerativeAIEmbeddings(model=\"models/text-embedding-004\")"
   ]
  },
  {
   "cell_type": "code",
   "execution_count": 26,
   "metadata": {},
   "outputs": [],
   "source": [
    "from langchain_core.prompts import load_prompt, ChatPromptTemplate\n",
    "from langchain_core.output_parsers import StrOutputParser\n",
    "from langchain_community.vectorstores import FAISS\n",
    "from langchain_ollama import OllamaEmbeddings, ChatOllama\n",
    "from langchain_google_genai import ChatGoogleGenerativeAI, GoogleGenerativeAIEmbeddings\n",
    "from langchain_core.pydantic_v1 import BaseModel, Field\n",
    "\n",
    "from abc import ABC, abstractmethod\n",
    "from operator import itemgetter\n",
    "from langchain import hub\n",
    "\n",
    "\n",
    "class RetrievalChain(ABC):\n",
    "    def __init__(self):\n",
    "        self.source_uri = None\n",
    "        self.k = 10\n",
    "        self.prompt_name = \"naive_rag_gemni\"\n",
    "    @abstractmethod\n",
    "    def load_documents(self, source_uris):\n",
    "        \"\"\"loader를 사용하여 문서를 로드합니다.\"\"\"\n",
    "        pass\n",
    "\n",
    "    @abstractmethod\n",
    "    def create_text_splitter(self):\n",
    "        \"\"\"text splitter를 생성합니다.\"\"\"\n",
    "        pass\n",
    "\n",
    "    def split_documents(self, docs, text_splitter):\n",
    "        \"\"\"text splitter를 사용하여 문서를 분할합니다.\"\"\"\n",
    "        return text_splitter.split_documents(docs)\n",
    "\n",
    "    def create_embedding(self):\n",
    "        return OllamaEmbeddings(model=\"bge-m3\")\n",
    "    \n",
    "    def create_embdding_eng(self):\n",
    "        return GoogleGenerativeAIEmbeddings(model=\"text-embedding-004\")\n",
    "\n",
    "    def create_vectorstore(self, split_docs, inlang = \"ko\"):\n",
    "        if inlang == \"ko\":\n",
    "            return FAISS.from_documents(\n",
    "                documents=split_docs, embedding=self.create_embedding()\n",
    "            )\n",
    "        elif inlang == \"eng\":\n",
    "            return FAISS.from_documents(\n",
    "                documents=split_docs, embedding=self.create_embdding_eng()\n",
    "            )\n",
    "\n",
    "    def create_retriever(self, vectorstore):\n",
    "        # MMR을 사용하여 검색을 수행하는 retriever를 생성합니다.\n",
    "        dense_retriever = vectorstore.as_retriever(\n",
    "            search_type=\"similarity\", search_kwargs={\"k\": self.k}\n",
    "        )\n",
    "        return dense_retriever\n",
    "\n",
    "    def create_model(self):\n",
    "        # return ChatOllama(model_name=\"dnotitia/dna\", temperature=0)\n",
    "        return ChatGoogleGenerativeAI(model=\"gemini-2.0-flash\", temperature=0)\n",
    "\n",
    "    def create_prompt(self):\n",
    "        return hub.pull(self.prompt_name)\n",
    "\n",
    "    @staticmethod\n",
    "    def format_docs(docs):\n",
    "        return \"\\n\".join(docs)\n",
    "\n",
    "    def create_chain(self, inlang = \"ko\"):\n",
    "        docs = self.load_documents(self.source_uri)\n",
    "        text_splitter = self.create_text_splitter()\n",
    "        split_docs = self.split_documents(docs, text_splitter)\n",
    "        self.vectorstore = self.create_vectorstore(split_docs, inlang)\n",
    "        self.retriever = self.create_retriever(self.vectorstore)\n",
    "        model = self.create_model()\n",
    "        prompt = self.create_prompt()\n",
    "        self.chain = (\n",
    "            {\n",
    "                \"question\": itemgetter(\"question\"),\n",
    "                \"context\": itemgetter(\"context\"),\n",
    "                \"chat_history\": itemgetter(\"chat_history\"),\n",
    "            }\n",
    "            | prompt\n",
    "            | model\n",
    "            | StrOutputParser()\n",
    "        )\n",
    "        return self"
   ]
  },
  {
   "cell_type": "code",
   "execution_count": 27,
   "metadata": {},
   "outputs": [],
   "source": [
    "from langchain_community.document_loaders import TextLoader\n",
    "from langchain_text_splitters import RecursiveCharacterTextSplitter\n",
    "from typing import List, Annotated\n",
    "\n",
    "\n",
    "class MarkdownRetrievalChain(RetrievalChain):\n",
    "    def __init__(self, source_uri: Annotated[str, \"Source URI\"], prompt_name = \"naive_rag_gemni\"):\n",
    "        self.source_uri = source_uri\n",
    "        self.k = 10\n",
    "        self.prompt_name = prompt_name\n",
    "\n",
    "    def load_documents(self, source_uris: List[str]):\n",
    "        docs = []\n",
    "        for source_uri in source_uris:\n",
    "            loader = TextLoader(source_uri, encoding='utf-8')\n",
    "            docs.extend(loader.load())\n",
    "\n",
    "        return docs\n",
    "\n",
    "    def create_text_splitter(self):\n",
    "        return RecursiveCharacterTextSplitter(chunk_size=500, chunk_overlap=100)"
   ]
  },
  {
   "cell_type": "code",
   "execution_count": 7,
   "metadata": {},
   "outputs": [],
   "source": [
    "# PDF 문서를 로드합니다.\n",
    "md = MarkdownRetrievalChain([\"../data/2025 KB 부동산 보고서_analyzed.md\"]).create_chain(inlang=\"ko\")\n",
    "\n",
    "# retriever와 chain을 생성합니다.\n",
    "md_retriever = md.retriever\n",
    "md_chain = md.chain"
   ]
  },
  {
   "cell_type": "code",
   "execution_count": 8,
   "metadata": {},
   "outputs": [
    {
     "data": {
      "text/plain": [
       "VectorStoreRetriever(tags=['FAISS', 'OllamaEmbeddings'], vectorstore=<langchain_community.vectorstores.faiss.FAISS object at 0x00000233AF2C3690>, search_kwargs={'k': 10})"
      ]
     },
     "execution_count": 8,
     "metadata": {},
     "output_type": "execute_result"
    }
   ],
   "source": [
    "md_retriever"
   ]
  },
  {
   "cell_type": "code",
   "execution_count": 9,
   "metadata": {},
   "outputs": [
    {
     "name": "stderr",
     "output_type": "stream",
     "text": [
      "c:\\Users\\최인규\\Documents\\RAG_practice\\.venv\\Lib\\site-packages\\tqdm\\auto.py:21: TqdmWarning: IProgress not found. Please update jupyter and ipywidgets. See https://ipywidgets.readthedocs.io/en/stable/user_install.html\n",
      "  from .autonotebook import tqdm as notebook_tqdm\n",
      "c:\\Users\\최인규\\Documents\\RAG_practice\\.venv\\Lib\\site-packages\\huggingface_hub\\file_download.py:142: UserWarning: `huggingface_hub` cache-system uses symlinks by default to efficiently store duplicated files but your machine does not support them in C:\\Users\\최인규\\.cache\\huggingface\\hub\\datasets--copycatQ--ragas_practice_dataset. Caching files will still work but in a degraded version that might require more space on your disk. This warning can be disabled by setting the `HF_HUB_DISABLE_SYMLINKS_WARNING` environment variable. For more details, see https://huggingface.co/docs/huggingface_hub/how-to-cache#limitations.\n",
      "To support symlinks on Windows, you either need to activate Developer Mode or to run Python as an administrator. In order to activate developer mode, see this article: https://docs.microsoft.com/en-us/windows/apps/get-started/enable-your-device-for-development\n",
      "  warnings.warn(message)\n",
      "Generating korean_estate split: 100%|██████████| 32/32 [00:00<00:00, 888.45 examples/s]\n"
     ]
    },
    {
     "data": {
      "text/html": [
       "<div>\n",
       "<style scoped>\n",
       "    .dataframe tbody tr th:only-of-type {\n",
       "        vertical-align: middle;\n",
       "    }\n",
       "\n",
       "    .dataframe tbody tr th {\n",
       "        vertical-align: top;\n",
       "    }\n",
       "\n",
       "    .dataframe thead th {\n",
       "        text-align: right;\n",
       "    }\n",
       "</style>\n",
       "<table border=\"1\" class=\"dataframe\">\n",
       "  <thead>\n",
       "    <tr style=\"text-align: right;\">\n",
       "      <th></th>\n",
       "      <th>user_input</th>\n",
       "      <th>reference_contexts</th>\n",
       "      <th>reference</th>\n",
       "      <th>synthesizer_name</th>\n",
       "      <th>validity</th>\n",
       "      <th>reference_context_relevance</th>\n",
       "      <th>qa_appropriateness</th>\n",
       "      <th>__index_level_0__</th>\n",
       "    </tr>\n",
       "  </thead>\n",
       "  <tbody>\n",
       "    <tr>\n",
       "      <th>0</th>\n",
       "      <td>송도의 부동산 시장에서 최근의 주요 이슈는 무엇인가요?</td>\n",
       "      <td>[정비 지역 광명 재건축 사업 진행 이후 신축 단지에 관심 집중. 수요가 감소하는 ...</td>\n",
       "      <td>송도에서는 GTX 건설 추진 지연으로 기대감이 감소하고 있으며, 제약·바이오 산업 ...</td>\n",
       "      <td>single_hop_specifc_query_synthesizer</td>\n",
       "      <td>True</td>\n",
       "      <td>True</td>\n",
       "      <td>True</td>\n",
       "      <td>0</td>\n",
       "    </tr>\n",
       "    <tr>\n",
       "      <th>1</th>\n",
       "      <td>2023년 부동산 시장에서 어떤 주요 변화가 있었나요?</td>\n",
       "      <td>[정비 지역 광명 재건축 사업 진행 이후 신축 단지에 관심 집중. 수요가 감소하는 ...</td>\n",
       "      <td>2023년 부동산 시장은 상업용 부동산 거래량이 2022년 대비 11.6% 감소하여...</td>\n",
       "      <td>single_hop_specifc_query_synthesizer</td>\n",
       "      <td>True</td>\n",
       "      <td>True</td>\n",
       "      <td>True</td>\n",
       "      <td>1</td>\n",
       "    </tr>\n",
       "    <tr>\n",
       "      <th>2</th>\n",
       "      <td>2023년 상업용 부동산 시장의 주요 동향은 무엇인가요?</td>\n",
       "      <td>[정비 지역 광명 재건축 사업 진행 이후 신축 단지에 관심 집중. 수요가 감소하는 ...</td>\n",
       "      <td>2023년 상업용 부동산 시장은 거래량이 2024년에는 11.6% 감소한 4.6만 ...</td>\n",
       "      <td>single_hop_specifc_query_synthesizer</td>\n",
       "      <td>True</td>\n",
       "      <td>True</td>\n",
       "      <td>True</td>\n",
       "      <td>2</td>\n",
       "    </tr>\n",
       "    <tr>\n",
       "      <th>3</th>\n",
       "      <td>2024년 주택시장에 대한 분석 결과는 무엇인가요?</td>\n",
       "      <td>[2024 KB 부동산 보고서: 2024년 주택시장 진단과 전망 Ex ecutive...</td>\n",
       "      <td>2024년 주택 매매가격은 3분기 이후 상승세를 보였으나 4분기 들어 상승폭이 크게...</td>\n",
       "      <td>single_hop_specifc_query_synthesizer</td>\n",
       "      <td>True</td>\n",
       "      <td>True</td>\n",
       "      <td>True</td>\n",
       "      <td>3</td>\n",
       "    </tr>\n",
       "    <tr>\n",
       "      <th>4</th>\n",
       "      <td>압구정의 주택시장 상황은 어때요?</td>\n",
       "      <td>[2024 KB 부동산 보고서: 2024년 주택시장 진단과 전망 Ex ecutive...</td>\n",
       "      <td>압구정은 재건축 단지의 사업 진행 상황이 시장에 큰 영향을 미치고 있으며, 서울 2...</td>\n",
       "      <td>single_hop_specifc_query_synthesizer</td>\n",
       "      <td>True</td>\n",
       "      <td>True</td>\n",
       "      <td>True</td>\n",
       "      <td>4</td>\n",
       "    </tr>\n",
       "  </tbody>\n",
       "</table>\n",
       "</div>"
      ],
      "text/plain": [
       "                        user_input  \\\n",
       "0   송도의 부동산 시장에서 최근의 주요 이슈는 무엇인가요?   \n",
       "1   2023년 부동산 시장에서 어떤 주요 변화가 있었나요?   \n",
       "2  2023년 상업용 부동산 시장의 주요 동향은 무엇인가요?   \n",
       "3     2024년 주택시장에 대한 분석 결과는 무엇인가요?   \n",
       "4               압구정의 주택시장 상황은 어때요?   \n",
       "\n",
       "                                  reference_contexts  \\\n",
       "0  [정비 지역 광명 재건축 사업 진행 이후 신축 단지에 관심 집중. 수요가 감소하는 ...   \n",
       "1  [정비 지역 광명 재건축 사업 진행 이후 신축 단지에 관심 집중. 수요가 감소하는 ...   \n",
       "2  [정비 지역 광명 재건축 사업 진행 이후 신축 단지에 관심 집중. 수요가 감소하는 ...   \n",
       "3  [2024 KB 부동산 보고서: 2024년 주택시장 진단과 전망 Ex ecutive...   \n",
       "4  [2024 KB 부동산 보고서: 2024년 주택시장 진단과 전망 Ex ecutive...   \n",
       "\n",
       "                                           reference  \\\n",
       "0  송도에서는 GTX 건설 추진 지연으로 기대감이 감소하고 있으며, 제약·바이오 산업 ...   \n",
       "1  2023년 부동산 시장은 상업용 부동산 거래량이 2022년 대비 11.6% 감소하여...   \n",
       "2  2023년 상업용 부동산 시장은 거래량이 2024년에는 11.6% 감소한 4.6만 ...   \n",
       "3  2024년 주택 매매가격은 3분기 이후 상승세를 보였으나 4분기 들어 상승폭이 크게...   \n",
       "4  압구정은 재건축 단지의 사업 진행 상황이 시장에 큰 영향을 미치고 있으며, 서울 2...   \n",
       "\n",
       "                       synthesizer_name  validity  \\\n",
       "0  single_hop_specifc_query_synthesizer      True   \n",
       "1  single_hop_specifc_query_synthesizer      True   \n",
       "2  single_hop_specifc_query_synthesizer      True   \n",
       "3  single_hop_specifc_query_synthesizer      True   \n",
       "4  single_hop_specifc_query_synthesizer      True   \n",
       "\n",
       "   reference_context_relevance  qa_appropriateness  __index_level_0__  \n",
       "0                         True                True                  0  \n",
       "1                         True                True                  1  \n",
       "2                         True                True                  2  \n",
       "3                         True                True                  3  \n",
       "4                         True                True                  4  "
      ]
     },
     "execution_count": 9,
     "metadata": {},
     "output_type": "execute_result"
    }
   ],
   "source": [
    "import pandas as pd\n",
    "from datasets import load_dataset, Dataset\n",
    "import os\n",
    "\n",
    "# huggingface Dataset에서 repo_id로 데이터셋 다운로드\n",
    "dataset = load_dataset(\n",
    "    \"copycatQ/ragas_practice_dataset\",  # 데이터셋 이름\n",
    "    token=os.environ[\"HUGGINGFACEHUB_API_TOKEN\"],  # private 데이터인 경우 필요합니다.\n",
    ")\n",
    "\n",
    "# 데이터셋에서 split 기준으로 조회\n",
    "huggingface_df = dataset[\"korean_estate\"].to_pandas()\n",
    "huggingface_df.head()"
   ]
  },
  {
   "cell_type": "code",
   "execution_count": 10,
   "metadata": {},
   "outputs": [
    {
     "name": "stdout",
     "output_type": "stream",
     "text": [
      "수요 회복의 원인으로는 삼성바이오로직스, SK바이오사이언스, 롯데바이오로직스, 셀트리온과 같은 국 내외 제약 및 바이오 기업의 연구개발시설 및 제조시설 입주에 따른 실수요의 증가를 들 수 있다. 송도 의 대표 아파트인 '더샵퍼스트파크'의 매매가격도 전용면적 84㎡ 기준 2024년 연초 10.3억 원에서 연 말 11억 원으로 상승하였다. 2024년 서울과 경기 지역 매매가격이 보합세를 보이거나 하락한 상황에서 서울 접근성이 떨어진다는 점과 많은 공급물량 등을 감안할 때 2024년 송도 주택시장은 다소 긍정적 인 모습을 보였다.\n",
      "\n",
      "과거 송도 내의 주택 수요는 GTX 추진으로 급증하였으나 향후에는 기업 입주로 인한 실수요의 영향 이  클  수  있으며, 2025년에는  정부의  대출  규제나  금리  등  실수요에  영향을  주는  요소들의  중요성이 더욱 커질 것으로 예상된다.\n",
      "\n",
      "Part\n",
      "\n",
      "2025 KB부동산 보고서: 상업용 부동산시장 진단과 전망\n",
      "\n",
      "### 이미지 분석\n",
      "**지도 및 다이어그램**\n",
      "- 송도국제도시의 개발 호재를 나타내는 지도입니다.\n",
      "- 주요 건물인 '셀트리온'과 '삼성바이오로직스'가 강조되어 있습니다.\n",
      "- GTX-B 노선이 인천대교역과 연결되어 있어 교통 편의성이 증대됩니다.\n",
      "- 지도에서 나타난 주요 지점들은 송도 지역의 발전 가능성을 시사합니다.\n",
      "- 전반적으로 송도국제도시의 미래 개발 계획과 중요한 인프라를 나타냅니다.\n",
      "\n",
      "\n",
      "자료: 카카오맵, 삼성바이오로직스, 셀트리온, KB부동산 재인용\n",
      "\n",
      "GTX-B 노선 사업 지연에도 불구하고 2024년 송도 지역의 주택 수요는 다소 회복되는 모습을 보였 다. 송도 지역의 마지막 개발 구역인 11공구에서 2024년 2월에 분양한 '송도자이풍경채그라노블'은 전 용면적 84㎡ 기준 분양가가 8.5억 원으로 당시 미분양물량이 적지 않았으나, 2분기 이후 매매 거래가 증가하면서 하반기 들어 분양이 완료되었다.\n",
      "\n",
      "자료: 《 매일경제 》\n",
      "\n",
      "송도 지역은 2019년 GTX-B 노선의 예비타당성 조사가 통과된 이후 서울 도심 접근성 개선에 대한 기대감이 크게 증가하였다. 그러나 사업 추진이 지연되면서 이러한 기대감은 다소 줄어들고 있다. 특히 정부 예산이 투입되는 재정 구간(용산~별내)은 2024년 초 착공하였으나 송도 지역을 지나는 민자 구간 (인천대입구~여의도, 별내~마석)은 아직 착공조차 못하고 있다. 이에 당초 2030년으로 예정된 개통 시기도 불투명해졌으며, 추가로 발표된 B 노선의 연장 구간(마석~춘천) 또한 사업 진행이 지연될 가능성이 높다.\n",
      "\n",
      "![Image](2025 KB 부동산 보고서_artifacts/image_000095_137a476f823a59ff79102b47bcd9e4c98febe1a389887f31d604ebef2953c963.png)\n",
      "\n",
      "최근에는 매수세가 감소하면서 매수 수요가 전세 수요로 전환되고 있다. 전세시장에서 신축 대단지 아파트에 대한 선호도 증가로 전세가격 상승세가 지속되면서 매매가격 하락을 일정 부분 지지해 주고 있는 모습이다. 인근 강동구 '올림픽파크포레온'(1만 2,032세대)의 1만 세대가 넘는 공급에도 수요 증가로 전세가격 상승세가 지속되고 있다.\n",
      "\n",
      "매매가격은 매수세 위축으로 당분간 큰 변화 없이 보합세를 유지할 것으로 예상되나, 전세가격은 송 파구 거주 수요로 인해 올림픽파크포레온 입주가 마무리된 이후에는 불안한 모습을 보일 가능성도 존 재한다.\n",
      "\n",
      "자료: 국토교통부 실거래가, 리얼캐스트 재인용\n",
      "\n",
      "![Image](2025 KB 부동산 보고서_artifacts/image_000078_c6aed4b77b7e09971e88af4956b93010f8e2f7a9a9243ac3ed9a4fffd950c28b.png)\n",
      "\n",
      "자료: KB부동산\n",
      "\n",
      "## ■ [⑤경기 교통 이슈 지역] 철도 노선: 위례, 동탄, 송도\n",
      "\n",
      "위례는 서울시 송파구, 경기도 성남시, 하남시에 개발된 신도시로 두 가지 대표적인 교통 이슈가 존재 한다.\n",
      "\n",
      "하나는 경기도 성남시 위례중앙광장을 거쳐 북쪽으로는 수도권 지하철 5호선 마천역, 남쪽으로는 8 호선 남위례역과 복정역을 연결하는 서울 경전철 위례선 트램이다. 2007년 위례신도시 개발에 따른 광 역교통 개선 대책을 통해 처음 공개된 위례선 트램은 15년 만인 2022년 12월에야 착공에 들어갔으나, 사업 진행이 원활하게 이뤄지면서 2025년 9월 개통을 앞두고 있었다. 그러나 최근 인허가 절차, 예산 삭감 등으로 인해 개통 시기가 2026년 5월로 약 8개월 지연될 것으로 예상되면서 수요자들은 다소 실 망한 모습이다.\n",
      "\n",
      "| 수도권    | 위례   | 위례선 트램, 위례신사선 등 교통 관련 사업 진행 상황이 시장의 주요 관심사                        |\n",
      "| 교통 이슈 | 동탄   | GTX 개통 이후 접근성, 비용 문제 등이 부각. 추가적인 교통 개발과 반도체 등 산업 수요는 증가      |\n",
      "| 지역      | 송도   | GTX 건설 추진 지연으로 기대감 감소. 제약·바이오 산업 유입에 따른 수요 증가는 긍정적 요인        |\n",
      "\n",
      "자료: KB경영연구소\n",
      "\n",
      "## ■ [①한강 이남 주요 지역] 강남3구: 강남구, 서초구, 송파구\n",
      "\n",
      "주택시장에서 가장 큰 관심 지역인 강남구 는 2024년 아파트 매매가격이 7.2% 상승하면서 서울 25 개 자치구 중 가장 높은 상승률을 기록하였으며, 3.3제곱미터(㎡)당 매매가격은 1억 원에 육박하였다.\n",
      "\n",
      "강남구의 아파트 매매가격 상승에는 압구정동 재건축 단지의 사업 진행이 큰 영향을 미쳤다. 2024년 11월 말 압구정 2구역의 서울시 정비계획 변경안이 통과되었으며, 2025년 시공사를 선정할 계획이다. 사업 진행에 대한 기대감으로 2구역 내 '신현대아파트' 35평은 2024년 말 51억 원에 매매가 이루어지 며 최고가를 경신하였다.\n",
      "\n",
      "개포주공 5단지와 6·7단지(통합 재건축)는 각각 2020년과 2021년에 조합설립인가를 완료하였으나 최 근까지 사업 진행이 더딘 상황이다. 이미 신축 단지로 정비가 완료된 개포주공 1~4단지도 매매가격은 높으나 매수세는 위축되었다.\n",
      "\n",
      "2024년 6월부터 선도지구 선정 가능성이 높은 단지(시범단지, 양지마을 등)를 중심으로 매매가격이 상승 세를 보이면서 약 3개월간 전용면적 84㎡ 기준 2~3억 원이 상승하였다. 다만, 11월 선도지구 발표 이 후에는 선정되지 않은 단지는 보합세로 전환되었으며, 선정된 단지들도 매매가격 상승세가 주춤한 모습 이다.\n",
      "\n",
      "2025년에도 1기 신도시 정비사업의 진행 상황이 주택시장 분위기를 결정할 것으로 예상된다. 선도지 구로 선정된 단지들은 본격적인 사업 추진을 위해 분담금 등이 확정될 수 있으며, 대규모 이주 등의 문 제도 남아 있다. 분당은 1기 신도시 중 가장 기대감이 높은 지역으로 많은 수요자들의 관심이 집중되고 있다. 향후 사업 추진 과정에서 주민들의 사업 추진 의지 및 자금 여력이 낮거나 정부의 지원이 뒷받침 되지 않을 경우, 2024년 하반기 선도지구 선정 이후 급격하게 상승한 매매가격이 다시 불안한 모습을 보일 가능성도 배제할 수 없다.\n",
      "\n",
      "자료: 국토교통부\n",
      "\n",
      "| 구분      | 지역   | 주요 이슈                                                                                       |\n",
      "|-----------|--------|-------------------------------------------------------------------------------------------------|\n",
      "| 서울      | 강남구 | 서울 25개 자치구 중 가장 높은 상승률 기록. 압구정 재건축 단지의 사업 진행 상황이 시장에 큰 영향 |\n",
      "| 한강      | 서초구 | 분양시장 중심으로 주택가격 크게 상승. 매수세는 둔화되었으나 여전히 매도자 우위 시장이 형성      |\n",
      "| 이남      | 송파구 | 재건축 사업이 탄력을 받으며 시장 관심 증가. 토지거래허가구역 해제 이후 시장 내 기대감 상승      |\n",
      "\n",
      "기존 아파트 매매가격도 2024년 2~3분기 상승세가 지속되었다. 마포구의 대표 아파트 단지인 '마포 래미안푸르지오'는 전용면적 84㎡ 기준 매매가격이 20억 원을 넘어섰으며, 신축 단지인 '마포프레스티 지자이'는 매매가격이 23억 원에 근접하였다.\n",
      "\n",
      "그러나 4분기 이후 거래 급감과 대출 제한의 여파로 주택시장이 빠르게 위축되면서 매매가격도 보합 세를 보이고 있다. 매도자는 가격 상승에 대한 기대감이 크게 줄어들어 타 지역이나 큰 평형으로 이주 하기 위해 가격 조정에 나서고 있다. 반면 매수자는 매매 거래에 소극적인 모습을 보이고 있다. 정부 규 제와 높은 가격에 대한 부담, 주택시장 불확실성 확대로 단기간에 매수세가 급격히 늘어나기는 어려울 것으로 예상된다.\n"
     ]
    }
   ],
   "source": [
    "search_result = md_retriever.invoke(\"송도의 부동산 시장에서 최근의 주요 이슈는 무엇인가요?\")\n",
    "print('\\n\\n'.join([doc.page_content for doc in search_result]))"
   ]
  },
  {
   "cell_type": "code",
   "execution_count": null,
   "metadata": {},
   "outputs": [],
   "source": [
    "### Hallucination Grader\n",
    "# Prompt\n",
    "system = \"\"\"You are a grader assessing whether an **LLM generation** is grounded in supported by a set of retrieved facts.\n",
    "    - Give a binary score 'yes' or 'no'. \n",
    "    - 'Yes' means that the answer is grounded in supported by the **set of facts**.\n",
    "    \"\"\"\n",
    "hallucination_prompt = ChatPromptTemplate.from_messages(\n",
    "    [\n",
    "        (\"system\", system),\n",
    "        (\"human\", \"# Set of facts: \\n\\n {documents} \\n\\n # LLM generation: \\n\\n {generation}\"),\n",
    "    ]\n",
    ")\n"
   ]
  },
  {
   "cell_type": "code",
   "execution_count": 15,
   "metadata": {},
   "outputs": [
    {
     "data": {
      "text/plain": [
       "'https://smith.langchain.com/prompts/rag_hallucination_grade_gemni/132edcb4?organizationId=a0ab1776-8a74-43e1-80d8-0865664a0343'"
      ]
     },
     "execution_count": 15,
     "metadata": {},
     "output_type": "execute_result"
    }
   ],
   "source": [
    "# hub.push(\"rag_hallucination_grade_gemni\", hallucination_prompt)"
   ]
  },
  {
   "cell_type": "code",
   "execution_count": 34,
   "metadata": {},
   "outputs": [],
   "source": [
    "# Data model\n",
    "class GradeHallucinations(BaseModel):\n",
    "    \"\"\"Binary score for hallucination present in generation answer.\"\"\"\n",
    "\n",
    "    binary_score: str = Field(\n",
    "        description=\"Answer is grounded in the facts, 'yes' or 'no'\"\n",
    "    )\n",
    "\n",
    "class GradeHallucinationChain(ABC):\n",
    "    def __init__(self, prompt_name:str = \"rag_hallucination_grade_gemni\"):\n",
    "        self.prompt_name = prompt_name\n",
    "        \n",
    "    def create_model(self):\n",
    "        # return ChatOllama(model_name=\"dnotitia/dna\", temperature=0)\n",
    "        return ChatGoogleGenerativeAI(model=\"gemini-2.0-flash\", temperature=0)\n",
    "\n",
    "    def create_prompt(self):\n",
    "        return hub.pull(self.prompt_name)\n",
    "\n",
    "    @staticmethod\n",
    "    def format_docs(docs):\n",
    "        return \"\\n\".join(docs)\n",
    "\n",
    "    def create_chain(self):\n",
    "        model = self.create_model()\n",
    "        structured_llm_grader = model.with_structured_output(GradeHallucinations)\n",
    "        hallucination_prompt = self.create_prompt()\n",
    "        hallucination_chain = ({\"documents\": itemgetter(\"documents\"), \"generation\": itemgetter(\"generation\"),}\n",
    "                               | hallucination_prompt \n",
    "                               | structured_llm_grader)\n",
    "        self.chain = hallucination_chain\n",
    "        return self"
   ]
  },
  {
   "cell_type": "code",
   "execution_count": 35,
   "metadata": {},
   "outputs": [],
   "source": [
    "hallucination_grader = GradeHallucinationChain().create_chain()"
   ]
  },
  {
   "cell_type": "code",
   "execution_count": 36,
   "metadata": {},
   "outputs": [
    {
     "data": {
      "text/plain": [
       "GradeHallucinations(binary_score='no')"
      ]
     },
     "execution_count": 36,
     "metadata": {},
     "output_type": "execute_result"
    }
   ],
   "source": [
    "test_doc = \"\"\"Executive Summary 1 \n",
    " 2025년 주택시장 하향 안정, 정부 정책 방향이 중요한 한 해가 될 전망 \n",
    "주택시장은 2022년 하반기 이후 상승과 하락을 반복하는 상황이 지속되고 있다. 이러한 시장 흐름은 \n",
    "올해도 이어질 것으로 보인다. 높은 가격에 대한 부담, 대출 규제 등의 하락 요인과 함께 공급 부족, 금리 인하 \n",
    "등의 상승 요인이 혼재되어 있기 때문이다. 다만, 선호도에 따른 지역별 차별화 현상은 더욱 확대될 수 있다.   \n",
    "올해 주택시장의 가장 큰 변수는 정부의 정책이 될 가능성이 높다. 지난해 하반기 시장 흐름에서 볼 수 \n",
    "있듯이, 실수요자 중심인 현재의 주택시장에서 대출 규제의 영향은 상당히 크다. 올해 주택시장의 또 다른 \n",
    "변수는 주택 공급이 될 수 있다. 공사비 증가, 부동산 프로젝트파이낸싱(PF) 시장 경색으로 민간 공급\n",
    "\"\"\"\n",
    "test_generation = \"\"\"2024년 주택시장은 상승과 하락을 반복하는 혼조세가 나타났으며, 하락-상승-하락으로 이어지며 시장 방향성에 대한 혼란이 가중되었습니다. \n",
    "2024년 주택 매매 거래량은 64.2만 호로 전년 대비 15.8% 증가했지만, 2012~2021년 평균의 66.0% 수준에 불과했습니다. 2024년 주택 전세가격은 전년 대비 1.4% 상승했습니다.\n",
    "\"\"\"\n",
    "hallucination_grader.chain.invoke({\"documents\": test_doc, \"generation\": test_generation})"
   ]
  },
  {
   "cell_type": "code",
   "execution_count": null,
   "metadata": {},
   "outputs": [],
   "source": []
  }
 ],
 "metadata": {
  "kernelspec": {
   "display_name": ".venv",
   "language": "python",
   "name": "python3"
  },
  "language_info": {
   "codemirror_mode": {
    "name": "ipython",
    "version": 3
   },
   "file_extension": ".py",
   "mimetype": "text/x-python",
   "name": "python",
   "nbconvert_exporter": "python",
   "pygments_lexer": "ipython3",
   "version": "3.11.9"
  }
 },
 "nbformat": 4,
 "nbformat_minor": 2
}
